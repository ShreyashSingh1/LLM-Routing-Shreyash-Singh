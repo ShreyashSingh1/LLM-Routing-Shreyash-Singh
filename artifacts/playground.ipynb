{
 "cells": [
  {
   "cell_type": "markdown",
   "metadata": {},
   "source": [
    "## Query Analysis Output"
   ]
  },
  {
   "cell_type": "markdown",
   "metadata": {},
   "source": [
    "Sample Input: What is the capital of France?"
   ]
  },
  {
   "cell_type": "code",
   "execution_count": null,
   "metadata": {},
   "outputs": [],
   "source": [
    "{\n",
    "  \"complexity_score\": 0.156,\n",
    "  \"complexity_category\": \"low\",\n",
    "  \"complexity_details\": {\n",
    "    \"length_score\": 0.06,\n",
    "    \"sentence_complexity\": 0.3,\n",
    "    \"question_complexity\": 0.2,\n",
    "    \"vocab_complexity\": 0.06,\n",
    "    \"specialized_complexity\": 0.1\n",
    "  },\n",
    "  \"domain_scores\": {\n",
    "    \"general_knowledge\": 1.0\n",
    "  },\n",
    "  \"primary_domain\": \"general_knowledge\",\n",
    "  \"has_code\": false,\n",
    "  \"sentiment\": {\n",
    "    \"polarity\": 0.0,\n",
    "    \"subjectivity\": 0.0,\n",
    "    \"sentiment\": \"neutral\",\n",
    "    \"urgency_score\": 0.0,\n",
    "    \"urgency\": \"low\"\n",
    "  },\n",
    "  \"language\": {\n",
    "    \"code\": \"en\",\n",
    "    \"name\": \"English\",\n",
    "    \"confidence\": -72.41186428070068,\n",
    "    \"is_reliable\": false\n",
    "  },\n",
    "  \"topics\": {\n",
    "    \"primary_topic\": \"general\",\n",
    "    \"topic_scores\": {\n",
    "      \"technology\": 0.0,\n",
    "      \"science\": 0.0,\n",
    "      \"business\": 0.0,\n",
    "      \"arts\": 0.0,\n",
    "      \"politics\": 0.0,\n",
    "      \"health\": 0.0,\n",
    "      \"education\": 0.0,\n",
    "      \"sports\": 0.0,\n",
    "      \"entertainment\": 0.0\n",
    "    },\n",
    "    \"method\": \"keyword_matching\"\n",
    "  },\n",
    "  \"estimated_tokens\": 7.8,\n",
    "  \"query_length\": 30\n",
    "}"
   ]
  },
  {
   "cell_type": "code",
   "execution_count": null,
   "metadata": {},
   "outputs": [
    {
     "data": {
      "text/plain": [
       "AIMessage(content=\"Hello! It's nice to meet you. Is there something I can help you with, or would you like to chat?\", additional_kwargs={}, response_metadata={'token_usage': {'completion_time': 0.021666667, 'completion_tokens': 26, 'prompt_time': 0.004517283, 'prompt_tokens': 11, 'total_time': 0.02618395, 'total_tokens': 37, 'queue_time': 0.602737082}, 'model_name': 'Llama3-8b-8192', 'system_fingerprint': 'fp_dadc9d6142', 'finish_reason': 'stop', 'logprobs': None}, id='run-fad95bc2-523b-44fa-971f-4a24bea5f5c2-0', usage_metadata={'input_tokens': 11, 'output_tokens': 26, 'total_tokens': 37})"
      ]
     },
     "execution_count": 1,
     "metadata": {},
     "output_type": "execute_result"
    }
   ],
   "source": [
    "from langchain_groq import ChatGroq\n",
    "lm = ChatGroq(model=\"Llama3-8b-8192\", groq_api_key=\"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\")\n",
    "lm.invoke(\"Hello\")\n",
    "\n"
   ]
  }
 ],
 "metadata": {
  "kernelspec": {
   "display_name": "base",
   "language": "python",
   "name": "python3"
  },
  "language_info": {
   "codemirror_mode": {
    "name": "ipython",
    "version": 3
   },
   "file_extension": ".py",
   "mimetype": "text/x-python",
   "name": "python",
   "nbconvert_exporter": "python",
   "pygments_lexer": "ipython3",
   "version": "3.12.7"
  }
 },
 "nbformat": 4,
 "nbformat_minor": 2
}
