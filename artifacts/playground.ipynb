{
 "cells": [
  {
   "cell_type": "markdown",
   "metadata": {},
   "source": [
    "## Query Analysis Output"
   ]
  },
  {
   "cell_type": "markdown",
   "metadata": {},
   "source": [
    "Sample Input: What is the capital of France?"
   ]
  },
  {
   "cell_type": "code",
   "execution_count": null,
   "metadata": {
    "vscode": {
     "languageId": "plaintext"
    }
   },
   "outputs": [],
   "source": [
    "{\n",
    "  \"complexity_score\": 0.156,\n",
    "  \"complexity_category\": \"low\",\n",
    "  \"complexity_details\": {\n",
    "    \"length_score\": 0.06,\n",
    "    \"sentence_complexity\": 0.3,\n",
    "    \"question_complexity\": 0.2,\n",
    "    \"vocab_complexity\": 0.06,\n",
    "    \"specialized_complexity\": 0.1\n",
    "  },\n",
    "  \"domain_scores\": {\n",
    "    \"general_knowledge\": 1.0\n",
    "  },\n",
    "  \"primary_domain\": \"general_knowledge\",\n",
    "  \"has_code\": false,\n",
    "  \"sentiment\": {\n",
    "    \"polarity\": 0.0,\n",
    "    \"subjectivity\": 0.0,\n",
    "    \"sentiment\": \"neutral\",\n",
    "    \"urgency_score\": 0.0,\n",
    "    \"urgency\": \"low\"\n",
    "  },\n",
    "  \"language\": {\n",
    "    \"code\": \"en\",\n",
    "    \"name\": \"English\",\n",
    "    \"confidence\": -72.41186428070068,\n",
    "    \"is_reliable\": false\n",
    "  },\n",
    "  \"topics\": {\n",
    "    \"primary_topic\": \"general\",\n",
    "    \"topic_scores\": {\n",
    "      \"technology\": 0.0,\n",
    "      \"science\": 0.0,\n",
    "      \"business\": 0.0,\n",
    "      \"arts\": 0.0,\n",
    "      \"politics\": 0.0,\n",
    "      \"health\": 0.0,\n",
    "      \"education\": 0.0,\n",
    "      \"sports\": 0.0,\n",
    "      \"entertainment\": 0.0\n",
    "    },\n",
    "    \"method\": \"keyword_matching\"\n",
    "  },\n",
    "  \"estimated_tokens\": 7.8,\n",
    "  \"query_length\": 30\n",
    "}"
   ]
  },
  {
   "cell_type": "code",
   "execution_count": null,
   "metadata": {
    "vscode": {
     "languageId": "plaintext"
    }
   },
   "outputs": [],
   "source": []
  }
 ],
 "metadata": {
  "language_info": {
   "name": "python"
  }
 },
 "nbformat": 4,
 "nbformat_minor": 2
}
